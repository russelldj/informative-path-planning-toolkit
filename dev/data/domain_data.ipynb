{
 "cells": [
  {
   "cell_type": "code",
   "execution_count": 1,
   "metadata": {},
   "outputs": [
    {
     "name": "stdout",
     "output_type": "stream",
     "text": [
      "Displaying cuprite_aster\n",
      "Displaying cuprite_aster_aviris\n",
      "Displaying aiira\n",
      "Displaying safeforest_gmap\n",
      "Displaying safeforest_ortho\n"
     ]
    }
   ],
   "source": [
    "from ipp_toolkit.data.domain_data import ALL_DOMAIN_DATASETS\n",
    "\n",
    "# Iterate over all the provided domain datasets\n",
    "for name, data_class in ALL_DOMAIN_DATASETS.items():\n",
    "    print(f\"Displaying {name}\")\n",
    "    # Data is not included in the repository and some is private. \n",
    "    # Fail gracefully if data is not present\n",
    "    try:\n",
    "        data = data_class()\n",
    "        data.vis()\n",
    "    except FileNotFoundError as e:\n",
    "        print(f\"Data file not found: {e}\")"
   ]
  }
 ],
 "metadata": {
  "kernelspec": {
   "display_name": "Python 3.10.8 ('IPP-toolkit')",
   "language": "python",
   "name": "python3"
  },
  "language_info": {
   "codemirror_mode": {
    "name": "ipython",
    "version": 3
   },
   "file_extension": ".py",
   "mimetype": "text/x-python",
   "name": "python",
   "nbconvert_exporter": "python",
   "pygments_lexer": "ipython3",
   "version": "3.10.8"
  },
  "orig_nbformat": 4,
  "vscode": {
   "interpreter": {
    "hash": "9891de3c639fa15231b93d4e5cbb1e78adc2ca0530b73afcef9e0aa291273f29"
   }
  }
 },
 "nbformat": 4,
 "nbformat_minor": 2
}
