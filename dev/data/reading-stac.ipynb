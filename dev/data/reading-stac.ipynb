{
 "cells": [
  {
   "cell_type": "markdown",
   "id": "23374c2d-0b01-496c-8171-3abf13dc77d4",
   "metadata": {},
   "source": [
    "## Reading Data from the STAC API\n",
    "\n",
    "The Planetary Computer catalogs the datasets we host using the [STAC](http://stacspec.org/) (SpatioTemporal Asset Catalog) specification. We provide a [STAC API](https://github.com/radiantearth/stac-api-spec) endpoint for searching our datasets by space, time, and more. This quickstart will show you how to search for data using our STAC API and open-source Python libraries. To use our STAC API from R, see [Reading data from the STAC API with R](https://planetarycomputer.microsoft.com/docs/quickstarts/reading-stac-r/).\n",
    "\n",
    "To get started you'll need the [pystac-client](https://github.com/stac-utils/pystac-client) library installed. You can install it via pip:\n",
    "\n",
    "```\n",
    "> python -m pip install pystac-client\n",
    "```\n",
    "\n",
    "To access the data, we'll create a `pystac_client.Client`. We'll explain the `modifier` part later on, but it's what lets us download the data assets Azure Blob Storage."
   ]
  },
  {
   "cell_type": "code",
   "execution_count": 165,
   "id": "fda5e533-84b8-4051-9198-2df74338ae71",
   "metadata": {},
   "outputs": [],
   "source": [
    "import pystac_client\n",
    "import planetary_computer\n",
    "\n",
    "catalog = pystac_client.Client.open(\n",
    "    \"https://planetarycomputer.microsoft.com/api/stac/v1\",\n",
    "    modifier=planetary_computer.sign_inplace,\n",
    ")"
   ]
  },
  {
   "cell_type": "markdown",
   "id": "b1f7ef57-45db-49ef-9065-4515157d23fb",
   "metadata": {},
   "source": [
    "### Searching\n",
    "\n",
    "We can use the STAC API to search for assets meeting some criteria. This might include the date and time the asset covers, is spatial extent, or any other property captured in the STAC item's metadata.\n",
    "\n",
    "In this example we'll search for imagery from [Landsat Collection 2 Level-2](https://planetarycomputer.microsoft.com/dataset/landsat-c2-l2) area around Microsoft's main campus in December of 2020."
   ]
  },
  {
   "cell_type": "code",
   "execution_count": 166,
   "id": "2ec73f94-3989-49cf-920a-fde66c7946b8",
   "metadata": {},
   "outputs": [
    {
     "data": {
      "text/plain": [
       "21"
      ]
     },
     "execution_count": 166,
     "metadata": {},
     "output_type": "execute_result"
    }
   ],
   "source": [
    "time_range = \"2020-12-01/2020-12-31\"\n",
    "bbox = [-122.2751, 47.5469, -121.9613 + 1, 47.7458+1]\n",
    "\n",
    "search = catalog.search(collections=[\"landsat-c2-l2\"], bbox=bbox, datetime=time_range)\n",
    "items = search.get_all_items()\n",
    "len(items)"
   ]
  },
  {
   "cell_type": "markdown",
   "id": "84143827-ff63-4946-a995-ebc101f18d52",
   "metadata": {},
   "source": [
    "In that example our spatial query used a bounding box with a `bbox`. Alternatively, you can pass a GeoJSON object as `intersects`\n",
    "\n",
    "```python\n",
    "area_of_interest = {\n",
    "    \"type\": \"Polygon\",\n",
    "    \"coordinates\": [\n",
    "        [\n",
    "            [41.217337, -8.527665],\n",
    "            [41.216595, -8.527701],\n",
    "            [41.215623, -8.527020],\n",
    "            [41.216674, -8.526108],\n",
    "            [41.217337, -8.527665],\n",
    "        ]\n",
    "    ],\n",
    "}\n",
    "\n",
    "time_range = \"2020-12-01/2020-12-31\"\n",
    "\n",
    "search = catalog.search(\n",
    "    collections=[\"landsat-c2-l2\"], intersects=area_of_interest, datetime=time_range\n",
    ")\n",
    "items = search.get_all_items()\n",
    "```"
   ]
  },
  {
   "cell_type": "markdown",
   "id": "aedaf9f7-1ba2-472d-85e1-5838e7df9ffb",
   "metadata": {},
   "source": [
    "`items` is a [`pystac.ItemCollection`](https://pystac.readthedocs.io/en/stable/api/item_collection.html#pystac-item-collection). We can see that 4 items matched our search criteria."
   ]
  },
  {
   "cell_type": "code",
   "execution_count": 167,
   "id": "c62e1ca1-0be3-45a6-bb8a-5fd048a5478c",
   "metadata": {},
   "outputs": [
    {
     "data": {
      "text/plain": [
       "21"
      ]
     },
     "execution_count": 167,
     "metadata": {},
     "output_type": "execute_result"
    }
   ],
   "source": [
    "len(items)"
   ]
  },
  {
   "cell_type": "markdown",
   "id": "6b36c181-a163-4e40-9ad0-3accacc82010",
   "metadata": {},
   "source": [
    "Each [`pystac.Item`](https://pystac.readthedocs.io/en/stable/api/pystac.html#pystac.Item) in this `ItemCollection` includes all the metadata for that scene. [STAC Items](https://github.com/radiantearth/stac-spec/blob/master/item-spec/item-spec.md) are GeoJSON features, and so can be loaded by libraries like [geopandas](http://geopandas.readthedocs.io/)."
   ]
  },
  {
   "cell_type": "code",
   "execution_count": 168,
   "id": "b95c28ed-0ab1-4d4c-aa0f-a0382f694238",
   "metadata": {},
   "outputs": [
    {
     "data": {
      "text/html": [
       "<div>\n",
       "<style scoped>\n",
       "    .dataframe tbody tr th:only-of-type {\n",
       "        vertical-align: middle;\n",
       "    }\n",
       "\n",
       "    .dataframe tbody tr th {\n",
       "        vertical-align: top;\n",
       "    }\n",
       "\n",
       "    .dataframe thead th {\n",
       "        text-align: right;\n",
       "    }\n",
       "</style>\n",
       "<table border=\"1\" class=\"dataframe\">\n",
       "  <thead>\n",
       "    <tr style=\"text-align: right;\">\n",
       "      <th></th>\n",
       "      <th>geometry</th>\n",
       "      <th>gsd</th>\n",
       "      <th>created</th>\n",
       "      <th>sci:doi</th>\n",
       "      <th>datetime</th>\n",
       "      <th>platform</th>\n",
       "      <th>proj:epsg</th>\n",
       "      <th>proj:shape</th>\n",
       "      <th>description</th>\n",
       "      <th>instruments</th>\n",
       "      <th>...</th>\n",
       "      <th>landsat:wrs_row</th>\n",
       "      <th>landsat:scene_id</th>\n",
       "      <th>landsat:wrs_path</th>\n",
       "      <th>landsat:wrs_type</th>\n",
       "      <th>view:sun_azimuth</th>\n",
       "      <th>landsat:correction</th>\n",
       "      <th>view:sun_elevation</th>\n",
       "      <th>landsat:cloud_cover_land</th>\n",
       "      <th>landsat:collection_number</th>\n",
       "      <th>landsat:collection_category</th>\n",
       "    </tr>\n",
       "  </thead>\n",
       "  <tbody>\n",
       "    <tr>\n",
       "      <th>0</th>\n",
       "      <td>POLYGON ((-121.43008 48.44556, -118.85228 48.0...</td>\n",
       "      <td>30</td>\n",
       "      <td>2022-05-06T17:18:19.914919Z</td>\n",
       "      <td>10.5066/P9C7I13B</td>\n",
       "      <td>2020-12-30T18:08:02.801305Z</td>\n",
       "      <td>landsat-7</td>\n",
       "      <td>32610</td>\n",
       "      <td>[7141, 8161]</td>\n",
       "      <td>Landsat Collection 2 Level-2</td>\n",
       "      <td>[etm+]</td>\n",
       "      <td>...</td>\n",
       "      <td>027</td>\n",
       "      <td>LE70450272020365EDC00</td>\n",
       "      <td>045</td>\n",
       "      <td>2</td>\n",
       "      <td>152.396604</td>\n",
       "      <td>L2SP</td>\n",
       "      <td>14.712063</td>\n",
       "      <td>89.00</td>\n",
       "      <td>02</td>\n",
       "      <td>T2</td>\n",
       "    </tr>\n",
       "    <tr>\n",
       "      <th>1</th>\n",
       "      <td>POLYGON ((-122.72549 48.50884, -120.29248 48.0...</td>\n",
       "      <td>30</td>\n",
       "      <td>2022-05-06T18:04:17.126358Z</td>\n",
       "      <td>10.5066/P9OGBGM6</td>\n",
       "      <td>2020-12-29T18:55:56.738265Z</td>\n",
       "      <td>landsat-8</td>\n",
       "      <td>32610</td>\n",
       "      <td>[7881, 7781]</td>\n",
       "      <td>Landsat Collection 2 Level-2</td>\n",
       "      <td>[oli, tirs]</td>\n",
       "      <td>...</td>\n",
       "      <td>027</td>\n",
       "      <td>LC80460272020364LGN00</td>\n",
       "      <td>046</td>\n",
       "      <td>2</td>\n",
       "      <td>162.253231</td>\n",
       "      <td>L2SP</td>\n",
       "      <td>17.458298</td>\n",
       "      <td>100.00</td>\n",
       "      <td>02</td>\n",
       "      <td>T2</td>\n",
       "    </tr>\n",
       "    <tr>\n",
       "      <th>2</th>\n",
       "      <td>POLYGON ((-122.17875 49.92734, -119.67969 49.4...</td>\n",
       "      <td>30</td>\n",
       "      <td>2022-05-06T18:04:12.708177Z</td>\n",
       "      <td>10.5066/P9OGBGM6</td>\n",
       "      <td>2020-12-29T18:55:32.855698Z</td>\n",
       "      <td>landsat-8</td>\n",
       "      <td>32610</td>\n",
       "      <td>[7861, 7771]</td>\n",
       "      <td>Landsat Collection 2 Level-2</td>\n",
       "      <td>[oli, tirs]</td>\n",
       "      <td>...</td>\n",
       "      <td>026</td>\n",
       "      <td>LC80460262020364LGN00</td>\n",
       "      <td>046</td>\n",
       "      <td>2</td>\n",
       "      <td>162.815963</td>\n",
       "      <td>L2SP</td>\n",
       "      <td>16.199155</td>\n",
       "      <td>99.99</td>\n",
       "      <td>02</td>\n",
       "      <td>T2</td>\n",
       "    </tr>\n",
       "    <tr>\n",
       "      <th>3</th>\n",
       "      <td>POLYGON ((-124.52046 48.44245, -121.93932 48.0...</td>\n",
       "      <td>30</td>\n",
       "      <td>2022-05-06T17:25:29.626986Z</td>\n",
       "      <td>10.5066/P9C7I13B</td>\n",
       "      <td>2020-12-28T18:20:32.609164Z</td>\n",
       "      <td>landsat-7</td>\n",
       "      <td>32610</td>\n",
       "      <td>[7361, 8341]</td>\n",
       "      <td>Landsat Collection 2 Level-2</td>\n",
       "      <td>[etm+]</td>\n",
       "      <td>...</td>\n",
       "      <td>027</td>\n",
       "      <td>LE70470272020363EDC00</td>\n",
       "      <td>047</td>\n",
       "      <td>2</td>\n",
       "      <td>152.689113</td>\n",
       "      <td>L2SP</td>\n",
       "      <td>14.678880</td>\n",
       "      <td>32.00</td>\n",
       "      <td>02</td>\n",
       "      <td>T1</td>\n",
       "    </tr>\n",
       "    <tr>\n",
       "      <th>4</th>\n",
       "      <td>POLYGON ((-121.18242 48.50777, -118.75073 48.0...</td>\n",
       "      <td>30</td>\n",
       "      <td>2022-05-06T17:11:33.278072Z</td>\n",
       "      <td>10.5066/P9OGBGM6</td>\n",
       "      <td>2020-12-22T18:49:47.832374Z</td>\n",
       "      <td>landsat-8</td>\n",
       "      <td>32610</td>\n",
       "      <td>[7791, 7681]</td>\n",
       "      <td>Landsat Collection 2 Level-2</td>\n",
       "      <td>[oli, tirs]</td>\n",
       "      <td>...</td>\n",
       "      <td>027</td>\n",
       "      <td>LC80450272020357LGN00</td>\n",
       "      <td>045</td>\n",
       "      <td>2</td>\n",
       "      <td>163.125412</td>\n",
       "      <td>L2SP</td>\n",
       "      <td>17.371677</td>\n",
       "      <td>14.89</td>\n",
       "      <td>02</td>\n",
       "      <td>T1</td>\n",
       "    </tr>\n",
       "    <tr>\n",
       "      <th>5</th>\n",
       "      <td>POLYGON ((-120.63980 49.92761, -118.13963 49.4...</td>\n",
       "      <td>30</td>\n",
       "      <td>2022-05-06T17:11:28.751347Z</td>\n",
       "      <td>10.5066/P9OGBGM6</td>\n",
       "      <td>2020-12-22T18:49:23.949806Z</td>\n",
       "      <td>landsat-8</td>\n",
       "      <td>32611</td>\n",
       "      <td>[8131, 8041]</td>\n",
       "      <td>Landsat Collection 2 Level-2</td>\n",
       "      <td>[oli, tirs]</td>\n",
       "      <td>...</td>\n",
       "      <td>026</td>\n",
       "      <td>LC80450262020357LGN00</td>\n",
       "      <td>045</td>\n",
       "      <td>2</td>\n",
       "      <td>163.681146</td>\n",
       "      <td>L2SP</td>\n",
       "      <td>16.101753</td>\n",
       "      <td>41.76</td>\n",
       "      <td>02</td>\n",
       "      <td>T1</td>\n",
       "    </tr>\n",
       "    <tr>\n",
       "      <th>6</th>\n",
       "      <td>POLYGON ((-122.96802 48.44547, -120.39024 48.0...</td>\n",
       "      <td>30</td>\n",
       "      <td>2022-05-06T18:01:04.319403Z</td>\n",
       "      <td>10.5066/P9C7I13B</td>\n",
       "      <td>2020-12-21T18:14:50.812768Z</td>\n",
       "      <td>landsat-7</td>\n",
       "      <td>32610</td>\n",
       "      <td>[7251, 8251]</td>\n",
       "      <td>Landsat Collection 2 Level-2</td>\n",
       "      <td>[etm+]</td>\n",
       "      <td>...</td>\n",
       "      <td>027</td>\n",
       "      <td>LE70460272020356EDC00</td>\n",
       "      <td>046</td>\n",
       "      <td>2</td>\n",
       "      <td>153.649177</td>\n",
       "      <td>L2SP</td>\n",
       "      <td>14.779612</td>\n",
       "      <td>24.00</td>\n",
       "      <td>02</td>\n",
       "      <td>T2</td>\n",
       "    </tr>\n",
       "    <tr>\n",
       "      <th>7</th>\n",
       "      <td>POLYGON ((-124.27547 48.50831, -121.84167 48.0...</td>\n",
       "      <td>30</td>\n",
       "      <td>2022-05-06T17:46:22.246696Z</td>\n",
       "      <td>10.5066/P9OGBGM6</td>\n",
       "      <td>2020-12-20T19:02:09.878796Z</td>\n",
       "      <td>landsat-8</td>\n",
       "      <td>32610</td>\n",
       "      <td>[7971, 7861]</td>\n",
       "      <td>Landsat Collection 2 Level-2</td>\n",
       "      <td>[oli, tirs]</td>\n",
       "      <td>...</td>\n",
       "      <td>027</td>\n",
       "      <td>LC80470272020355LGN00</td>\n",
       "      <td>047</td>\n",
       "      <td>2</td>\n",
       "      <td>163.360118</td>\n",
       "      <td>L2SP</td>\n",
       "      <td>17.414441</td>\n",
       "      <td>100.00</td>\n",
       "      <td>02</td>\n",
       "      <td>T2</td>\n",
       "    </tr>\n",
       "    <tr>\n",
       "      <th>8</th>\n",
       "      <td>POLYGON ((-123.73194 49.92740, -121.23042 49.4...</td>\n",
       "      <td>30</td>\n",
       "      <td>2022-05-06T17:46:18.304294Z</td>\n",
       "      <td>10.5066/P9OGBGM6</td>\n",
       "      <td>2020-12-20T19:01:45.996228Z</td>\n",
       "      <td>landsat-8</td>\n",
       "      <td>32610</td>\n",
       "      <td>[7961, 7861]</td>\n",
       "      <td>Landsat Collection 2 Level-2</td>\n",
       "      <td>[oli, tirs]</td>\n",
       "      <td>...</td>\n",
       "      <td>026</td>\n",
       "      <td>LC80470262020355LGN00</td>\n",
       "      <td>047</td>\n",
       "      <td>2</td>\n",
       "      <td>163.914790</td>\n",
       "      <td>L2SP</td>\n",
       "      <td>16.141679</td>\n",
       "      <td>84.52</td>\n",
       "      <td>02</td>\n",
       "      <td>T1</td>\n",
       "    </tr>\n",
       "    <tr>\n",
       "      <th>9</th>\n",
       "      <td>POLYGON ((-121.43170 48.44586, -118.85202 48.0...</td>\n",
       "      <td>30</td>\n",
       "      <td>2022-05-06T17:18:19.733213Z</td>\n",
       "      <td>10.5066/P9C7I13B</td>\n",
       "      <td>2020-12-14T18:09:12.289348Z</td>\n",
       "      <td>landsat-7</td>\n",
       "      <td>32610</td>\n",
       "      <td>[7171, 8171]</td>\n",
       "      <td>Landsat Collection 2 Level-2</td>\n",
       "      <td>[etm+]</td>\n",
       "      <td>...</td>\n",
       "      <td>027</td>\n",
       "      <td>LE70450272020349EDC00</td>\n",
       "      <td>045</td>\n",
       "      <td>2</td>\n",
       "      <td>154.483719</td>\n",
       "      <td>L2SP</td>\n",
       "      <td>15.238458</td>\n",
       "      <td>65.00</td>\n",
       "      <td>02</td>\n",
       "      <td>T1</td>\n",
       "    </tr>\n",
       "    <tr>\n",
       "      <th>10</th>\n",
       "      <td>POLYGON ((-120.89485 49.86533, -118.24923 49.4...</td>\n",
       "      <td>30</td>\n",
       "      <td>2022-05-06T17:18:16.046454Z</td>\n",
       "      <td>10.5066/P9C7I13B</td>\n",
       "      <td>2020-12-14T18:08:48.407570Z</td>\n",
       "      <td>landsat-7</td>\n",
       "      <td>32611</td>\n",
       "      <td>[7551, 8491]</td>\n",
       "      <td>Landsat Collection 2 Level-2</td>\n",
       "      <td>[etm+]</td>\n",
       "      <td>...</td>\n",
       "      <td>026</td>\n",
       "      <td>LE70450262020349EDC00</td>\n",
       "      <td>045</td>\n",
       "      <td>2</td>\n",
       "      <td>155.054000</td>\n",
       "      <td>L2SP</td>\n",
       "      <td>14.084071</td>\n",
       "      <td>59.00</td>\n",
       "      <td>02</td>\n",
       "      <td>T1</td>\n",
       "    </tr>\n",
       "    <tr>\n",
       "      <th>11</th>\n",
       "      <td>POLYGON ((-122.72996 48.50858, -120.29690 48.0...</td>\n",
       "      <td>30</td>\n",
       "      <td>2022-05-06T18:04:16.935800Z</td>\n",
       "      <td>10.5066/P9OGBGM6</td>\n",
       "      <td>2020-12-13T18:56:00.096447Z</td>\n",
       "      <td>landsat-8</td>\n",
       "      <td>32610</td>\n",
       "      <td>[7881, 7781]</td>\n",
       "      <td>Landsat Collection 2 Level-2</td>\n",
       "      <td>[oli, tirs]</td>\n",
       "      <td>...</td>\n",
       "      <td>027</td>\n",
       "      <td>LC80460272020348LGN00</td>\n",
       "      <td>046</td>\n",
       "      <td>2</td>\n",
       "      <td>164.126188</td>\n",
       "      <td>L2SP</td>\n",
       "      <td>17.799744</td>\n",
       "      <td>98.64</td>\n",
       "      <td>02</td>\n",
       "      <td>T2</td>\n",
       "    </tr>\n",
       "    <tr>\n",
       "      <th>12</th>\n",
       "      <td>POLYGON ((-122.18251 49.92736, -119.68469 49.4...</td>\n",
       "      <td>30</td>\n",
       "      <td>2022-05-06T18:04:12.536886Z</td>\n",
       "      <td>10.5066/P9OGBGM6</td>\n",
       "      <td>2020-12-13T18:55:36.213879Z</td>\n",
       "      <td>landsat-8</td>\n",
       "      <td>32610</td>\n",
       "      <td>[7871, 7771]</td>\n",
       "      <td>Landsat Collection 2 Level-2</td>\n",
       "      <td>[oli, tirs]</td>\n",
       "      <td>...</td>\n",
       "      <td>026</td>\n",
       "      <td>LC80460262020348LGN00</td>\n",
       "      <td>046</td>\n",
       "      <td>2</td>\n",
       "      <td>164.680773</td>\n",
       "      <td>L2SP</td>\n",
       "      <td>16.517871</td>\n",
       "      <td>62.63</td>\n",
       "      <td>02</td>\n",
       "      <td>T1</td>\n",
       "    </tr>\n",
       "    <tr>\n",
       "      <th>13</th>\n",
       "      <td>POLYGON ((-124.51935 48.44597, -121.93965 48.0...</td>\n",
       "      <td>30</td>\n",
       "      <td>2022-05-06T17:25:29.412798Z</td>\n",
       "      <td>10.5066/P9C7I13B</td>\n",
       "      <td>2020-12-12T18:21:42.991249Z</td>\n",
       "      <td>landsat-7</td>\n",
       "      <td>32610</td>\n",
       "      <td>[7361, 8341]</td>\n",
       "      <td>Landsat Collection 2 Level-2</td>\n",
       "      <td>[etm+]</td>\n",
       "      <td>...</td>\n",
       "      <td>027</td>\n",
       "      <td>LE70470272020347EDC00</td>\n",
       "      <td>047</td>\n",
       "      <td>2</td>\n",
       "      <td>154.692691</td>\n",
       "      <td>L2SP</td>\n",
       "      <td>15.427422</td>\n",
       "      <td>12.00</td>\n",
       "      <td>02</td>\n",
       "      <td>T1</td>\n",
       "    </tr>\n",
       "    <tr>\n",
       "      <th>14</th>\n",
       "      <td>POLYGON ((-123.98772 49.86452, -121.34006 49.4...</td>\n",
       "      <td>30</td>\n",
       "      <td>2022-05-06T17:25:25.196117Z</td>\n",
       "      <td>10.5066/P9C7I13B</td>\n",
       "      <td>2020-12-12T18:21:19.109668Z</td>\n",
       "      <td>landsat-7</td>\n",
       "      <td>32610</td>\n",
       "      <td>[7351, 8321]</td>\n",
       "      <td>Landsat Collection 2 Level-2</td>\n",
       "      <td>[etm+]</td>\n",
       "      <td>...</td>\n",
       "      <td>026</td>\n",
       "      <td>LE70470262020347EDC00</td>\n",
       "      <td>047</td>\n",
       "      <td>2</td>\n",
       "      <td>155.265459</td>\n",
       "      <td>L2SP</td>\n",
       "      <td>14.273915</td>\n",
       "      <td>16.00</td>\n",
       "      <td>02</td>\n",
       "      <td>T1</td>\n",
       "    </tr>\n",
       "    <tr>\n",
       "      <th>15</th>\n",
       "      <td>POLYGON ((-121.18241 48.50804, -118.75114 48.0...</td>\n",
       "      <td>30</td>\n",
       "      <td>2022-05-06T17:11:33.124699Z</td>\n",
       "      <td>10.5066/P9OGBGM6</td>\n",
       "      <td>2020-12-06T18:49:49.605773Z</td>\n",
       "      <td>landsat-8</td>\n",
       "      <td>32610</td>\n",
       "      <td>[7791, 7681]</td>\n",
       "      <td>Landsat Collection 2 Level-2</td>\n",
       "      <td>[oli, tirs]</td>\n",
       "      <td>...</td>\n",
       "      <td>027</td>\n",
       "      <td>LC80450272020341LGN00</td>\n",
       "      <td>045</td>\n",
       "      <td>2</td>\n",
       "      <td>164.760752</td>\n",
       "      <td>L2SP</td>\n",
       "      <td>18.536254</td>\n",
       "      <td>50.72</td>\n",
       "      <td>02</td>\n",
       "      <td>T1</td>\n",
       "    </tr>\n",
       "    <tr>\n",
       "      <th>16</th>\n",
       "      <td>POLYGON ((-120.63982 49.92788, -118.13964 49.4...</td>\n",
       "      <td>30</td>\n",
       "      <td>2022-05-06T17:11:28.595278Z</td>\n",
       "      <td>10.5066/P9OGBGM6</td>\n",
       "      <td>2020-12-06T18:49:25.718969Z</td>\n",
       "      <td>landsat-8</td>\n",
       "      <td>32611</td>\n",
       "      <td>[8131, 8031]</td>\n",
       "      <td>Landsat Collection 2 Level-2</td>\n",
       "      <td>[oli, tirs]</td>\n",
       "      <td>...</td>\n",
       "      <td>026</td>\n",
       "      <td>LC80450262020341LGN00</td>\n",
       "      <td>045</td>\n",
       "      <td>2</td>\n",
       "      <td>165.320342</td>\n",
       "      <td>L2SP</td>\n",
       "      <td>17.246686</td>\n",
       "      <td>46.19</td>\n",
       "      <td>02</td>\n",
       "      <td>T1</td>\n",
       "    </tr>\n",
       "    <tr>\n",
       "      <th>17</th>\n",
       "      <td>POLYGON ((-122.98709 48.44790, -120.40945 48.0...</td>\n",
       "      <td>30</td>\n",
       "      <td>2022-05-06T18:01:04.178839Z</td>\n",
       "      <td>10.5066/P9C7I13B</td>\n",
       "      <td>2020-12-05T18:16:03.755599Z</td>\n",
       "      <td>landsat-7</td>\n",
       "      <td>32610</td>\n",
       "      <td>[7281, 8251]</td>\n",
       "      <td>Landsat Collection 2 Level-2</td>\n",
       "      <td>[etm+]</td>\n",
       "      <td>...</td>\n",
       "      <td>027</td>\n",
       "      <td>LE70460272020340EDC00</td>\n",
       "      <td>046</td>\n",
       "      <td>2</td>\n",
       "      <td>155.308739</td>\n",
       "      <td>L2SP</td>\n",
       "      <td>16.313570</td>\n",
       "      <td>2.00</td>\n",
       "      <td>02</td>\n",
       "      <td>T1</td>\n",
       "    </tr>\n",
       "    <tr>\n",
       "      <th>18</th>\n",
       "      <td>POLYGON ((-122.44820 49.86687, -119.80023 49.4...</td>\n",
       "      <td>30</td>\n",
       "      <td>2022-05-06T18:01:00.061650Z</td>\n",
       "      <td>10.5066/P9C7I13B</td>\n",
       "      <td>2020-12-05T18:15:39.874885Z</td>\n",
       "      <td>landsat-7</td>\n",
       "      <td>32610</td>\n",
       "      <td>[7251, 8241]</td>\n",
       "      <td>Landsat Collection 2 Level-2</td>\n",
       "      <td>[etm+]</td>\n",
       "      <td>...</td>\n",
       "      <td>026</td>\n",
       "      <td>LE70460262020340EDC00</td>\n",
       "      <td>046</td>\n",
       "      <td>2</td>\n",
       "      <td>155.890589</td>\n",
       "      <td>L2SP</td>\n",
       "      <td>15.146123</td>\n",
       "      <td>4.00</td>\n",
       "      <td>02</td>\n",
       "      <td>T1</td>\n",
       "    </tr>\n",
       "    <tr>\n",
       "      <th>19</th>\n",
       "      <td>POLYGON ((-124.27385 48.50833, -121.83965 48.0...</td>\n",
       "      <td>30</td>\n",
       "      <td>2022-05-06T17:46:22.097338Z</td>\n",
       "      <td>10.5066/P9OGBGM6</td>\n",
       "      <td>2020-12-04T19:02:11.194486Z</td>\n",
       "      <td>landsat-8</td>\n",
       "      <td>32610</td>\n",
       "      <td>[7971, 7861]</td>\n",
       "      <td>Landsat Collection 2 Level-2</td>\n",
       "      <td>[oli, tirs]</td>\n",
       "      <td>...</td>\n",
       "      <td>027</td>\n",
       "      <td>LC80470272020339LGN00</td>\n",
       "      <td>047</td>\n",
       "      <td>2</td>\n",
       "      <td>164.914060</td>\n",
       "      <td>L2SP</td>\n",
       "      <td>18.807230</td>\n",
       "      <td>1.90</td>\n",
       "      <td>02</td>\n",
       "      <td>T1</td>\n",
       "    </tr>\n",
       "    <tr>\n",
       "      <th>20</th>\n",
       "      <td>POLYGON ((-123.72903 49.92822, -121.22835 49.4...</td>\n",
       "      <td>30</td>\n",
       "      <td>2022-05-06T17:46:18.141955Z</td>\n",
       "      <td>10.5066/P9OGBGM6</td>\n",
       "      <td>2020-12-04T19:01:47.311918Z</td>\n",
       "      <td>landsat-8</td>\n",
       "      <td>32610</td>\n",
       "      <td>[7961, 7861]</td>\n",
       "      <td>Landsat Collection 2 Level-2</td>\n",
       "      <td>[oli, tirs]</td>\n",
       "      <td>...</td>\n",
       "      <td>026</td>\n",
       "      <td>LC80470262020339LGN00</td>\n",
       "      <td>047</td>\n",
       "      <td>2</td>\n",
       "      <td>165.475889</td>\n",
       "      <td>L2SP</td>\n",
       "      <td>17.516105</td>\n",
       "      <td>2.48</td>\n",
       "      <td>02</td>\n",
       "      <td>T1</td>\n",
       "    </tr>\n",
       "  </tbody>\n",
       "</table>\n",
       "<p>21 rows × 23 columns</p>\n",
       "</div>"
      ],
      "text/plain": [
       "                                             geometry  gsd  \\\n",
       "0   POLYGON ((-121.43008 48.44556, -118.85228 48.0...   30   \n",
       "1   POLYGON ((-122.72549 48.50884, -120.29248 48.0...   30   \n",
       "2   POLYGON ((-122.17875 49.92734, -119.67969 49.4...   30   \n",
       "3   POLYGON ((-124.52046 48.44245, -121.93932 48.0...   30   \n",
       "4   POLYGON ((-121.18242 48.50777, -118.75073 48.0...   30   \n",
       "5   POLYGON ((-120.63980 49.92761, -118.13963 49.4...   30   \n",
       "6   POLYGON ((-122.96802 48.44547, -120.39024 48.0...   30   \n",
       "7   POLYGON ((-124.27547 48.50831, -121.84167 48.0...   30   \n",
       "8   POLYGON ((-123.73194 49.92740, -121.23042 49.4...   30   \n",
       "9   POLYGON ((-121.43170 48.44586, -118.85202 48.0...   30   \n",
       "10  POLYGON ((-120.89485 49.86533, -118.24923 49.4...   30   \n",
       "11  POLYGON ((-122.72996 48.50858, -120.29690 48.0...   30   \n",
       "12  POLYGON ((-122.18251 49.92736, -119.68469 49.4...   30   \n",
       "13  POLYGON ((-124.51935 48.44597, -121.93965 48.0...   30   \n",
       "14  POLYGON ((-123.98772 49.86452, -121.34006 49.4...   30   \n",
       "15  POLYGON ((-121.18241 48.50804, -118.75114 48.0...   30   \n",
       "16  POLYGON ((-120.63982 49.92788, -118.13964 49.4...   30   \n",
       "17  POLYGON ((-122.98709 48.44790, -120.40945 48.0...   30   \n",
       "18  POLYGON ((-122.44820 49.86687, -119.80023 49.4...   30   \n",
       "19  POLYGON ((-124.27385 48.50833, -121.83965 48.0...   30   \n",
       "20  POLYGON ((-123.72903 49.92822, -121.22835 49.4...   30   \n",
       "\n",
       "                        created           sci:doi  \\\n",
       "0   2022-05-06T17:18:19.914919Z  10.5066/P9C7I13B   \n",
       "1   2022-05-06T18:04:17.126358Z  10.5066/P9OGBGM6   \n",
       "2   2022-05-06T18:04:12.708177Z  10.5066/P9OGBGM6   \n",
       "3   2022-05-06T17:25:29.626986Z  10.5066/P9C7I13B   \n",
       "4   2022-05-06T17:11:33.278072Z  10.5066/P9OGBGM6   \n",
       "5   2022-05-06T17:11:28.751347Z  10.5066/P9OGBGM6   \n",
       "6   2022-05-06T18:01:04.319403Z  10.5066/P9C7I13B   \n",
       "7   2022-05-06T17:46:22.246696Z  10.5066/P9OGBGM6   \n",
       "8   2022-05-06T17:46:18.304294Z  10.5066/P9OGBGM6   \n",
       "9   2022-05-06T17:18:19.733213Z  10.5066/P9C7I13B   \n",
       "10  2022-05-06T17:18:16.046454Z  10.5066/P9C7I13B   \n",
       "11  2022-05-06T18:04:16.935800Z  10.5066/P9OGBGM6   \n",
       "12  2022-05-06T18:04:12.536886Z  10.5066/P9OGBGM6   \n",
       "13  2022-05-06T17:25:29.412798Z  10.5066/P9C7I13B   \n",
       "14  2022-05-06T17:25:25.196117Z  10.5066/P9C7I13B   \n",
       "15  2022-05-06T17:11:33.124699Z  10.5066/P9OGBGM6   \n",
       "16  2022-05-06T17:11:28.595278Z  10.5066/P9OGBGM6   \n",
       "17  2022-05-06T18:01:04.178839Z  10.5066/P9C7I13B   \n",
       "18  2022-05-06T18:01:00.061650Z  10.5066/P9C7I13B   \n",
       "19  2022-05-06T17:46:22.097338Z  10.5066/P9OGBGM6   \n",
       "20  2022-05-06T17:46:18.141955Z  10.5066/P9OGBGM6   \n",
       "\n",
       "                       datetime   platform  proj:epsg    proj:shape  \\\n",
       "0   2020-12-30T18:08:02.801305Z  landsat-7      32610  [7141, 8161]   \n",
       "1   2020-12-29T18:55:56.738265Z  landsat-8      32610  [7881, 7781]   \n",
       "2   2020-12-29T18:55:32.855698Z  landsat-8      32610  [7861, 7771]   \n",
       "3   2020-12-28T18:20:32.609164Z  landsat-7      32610  [7361, 8341]   \n",
       "4   2020-12-22T18:49:47.832374Z  landsat-8      32610  [7791, 7681]   \n",
       "5   2020-12-22T18:49:23.949806Z  landsat-8      32611  [8131, 8041]   \n",
       "6   2020-12-21T18:14:50.812768Z  landsat-7      32610  [7251, 8251]   \n",
       "7   2020-12-20T19:02:09.878796Z  landsat-8      32610  [7971, 7861]   \n",
       "8   2020-12-20T19:01:45.996228Z  landsat-8      32610  [7961, 7861]   \n",
       "9   2020-12-14T18:09:12.289348Z  landsat-7      32610  [7171, 8171]   \n",
       "10  2020-12-14T18:08:48.407570Z  landsat-7      32611  [7551, 8491]   \n",
       "11  2020-12-13T18:56:00.096447Z  landsat-8      32610  [7881, 7781]   \n",
       "12  2020-12-13T18:55:36.213879Z  landsat-8      32610  [7871, 7771]   \n",
       "13  2020-12-12T18:21:42.991249Z  landsat-7      32610  [7361, 8341]   \n",
       "14  2020-12-12T18:21:19.109668Z  landsat-7      32610  [7351, 8321]   \n",
       "15  2020-12-06T18:49:49.605773Z  landsat-8      32610  [7791, 7681]   \n",
       "16  2020-12-06T18:49:25.718969Z  landsat-8      32611  [8131, 8031]   \n",
       "17  2020-12-05T18:16:03.755599Z  landsat-7      32610  [7281, 8251]   \n",
       "18  2020-12-05T18:15:39.874885Z  landsat-7      32610  [7251, 8241]   \n",
       "19  2020-12-04T19:02:11.194486Z  landsat-8      32610  [7971, 7861]   \n",
       "20  2020-12-04T19:01:47.311918Z  landsat-8      32610  [7961, 7861]   \n",
       "\n",
       "                     description  instruments  ...  landsat:wrs_row  \\\n",
       "0   Landsat Collection 2 Level-2       [etm+]  ...              027   \n",
       "1   Landsat Collection 2 Level-2  [oli, tirs]  ...              027   \n",
       "2   Landsat Collection 2 Level-2  [oli, tirs]  ...              026   \n",
       "3   Landsat Collection 2 Level-2       [etm+]  ...              027   \n",
       "4   Landsat Collection 2 Level-2  [oli, tirs]  ...              027   \n",
       "5   Landsat Collection 2 Level-2  [oli, tirs]  ...              026   \n",
       "6   Landsat Collection 2 Level-2       [etm+]  ...              027   \n",
       "7   Landsat Collection 2 Level-2  [oli, tirs]  ...              027   \n",
       "8   Landsat Collection 2 Level-2  [oli, tirs]  ...              026   \n",
       "9   Landsat Collection 2 Level-2       [etm+]  ...              027   \n",
       "10  Landsat Collection 2 Level-2       [etm+]  ...              026   \n",
       "11  Landsat Collection 2 Level-2  [oli, tirs]  ...              027   \n",
       "12  Landsat Collection 2 Level-2  [oli, tirs]  ...              026   \n",
       "13  Landsat Collection 2 Level-2       [etm+]  ...              027   \n",
       "14  Landsat Collection 2 Level-2       [etm+]  ...              026   \n",
       "15  Landsat Collection 2 Level-2  [oli, tirs]  ...              027   \n",
       "16  Landsat Collection 2 Level-2  [oli, tirs]  ...              026   \n",
       "17  Landsat Collection 2 Level-2       [etm+]  ...              027   \n",
       "18  Landsat Collection 2 Level-2       [etm+]  ...              026   \n",
       "19  Landsat Collection 2 Level-2  [oli, tirs]  ...              027   \n",
       "20  Landsat Collection 2 Level-2  [oli, tirs]  ...              026   \n",
       "\n",
       "         landsat:scene_id  landsat:wrs_path landsat:wrs_type view:sun_azimuth  \\\n",
       "0   LE70450272020365EDC00               045                2       152.396604   \n",
       "1   LC80460272020364LGN00               046                2       162.253231   \n",
       "2   LC80460262020364LGN00               046                2       162.815963   \n",
       "3   LE70470272020363EDC00               047                2       152.689113   \n",
       "4   LC80450272020357LGN00               045                2       163.125412   \n",
       "5   LC80450262020357LGN00               045                2       163.681146   \n",
       "6   LE70460272020356EDC00               046                2       153.649177   \n",
       "7   LC80470272020355LGN00               047                2       163.360118   \n",
       "8   LC80470262020355LGN00               047                2       163.914790   \n",
       "9   LE70450272020349EDC00               045                2       154.483719   \n",
       "10  LE70450262020349EDC00               045                2       155.054000   \n",
       "11  LC80460272020348LGN00               046                2       164.126188   \n",
       "12  LC80460262020348LGN00               046                2       164.680773   \n",
       "13  LE70470272020347EDC00               047                2       154.692691   \n",
       "14  LE70470262020347EDC00               047                2       155.265459   \n",
       "15  LC80450272020341LGN00               045                2       164.760752   \n",
       "16  LC80450262020341LGN00               045                2       165.320342   \n",
       "17  LE70460272020340EDC00               046                2       155.308739   \n",
       "18  LE70460262020340EDC00               046                2       155.890589   \n",
       "19  LC80470272020339LGN00               047                2       164.914060   \n",
       "20  LC80470262020339LGN00               047                2       165.475889   \n",
       "\n",
       "   landsat:correction view:sun_elevation  landsat:cloud_cover_land  \\\n",
       "0                L2SP          14.712063                     89.00   \n",
       "1                L2SP          17.458298                    100.00   \n",
       "2                L2SP          16.199155                     99.99   \n",
       "3                L2SP          14.678880                     32.00   \n",
       "4                L2SP          17.371677                     14.89   \n",
       "5                L2SP          16.101753                     41.76   \n",
       "6                L2SP          14.779612                     24.00   \n",
       "7                L2SP          17.414441                    100.00   \n",
       "8                L2SP          16.141679                     84.52   \n",
       "9                L2SP          15.238458                     65.00   \n",
       "10               L2SP          14.084071                     59.00   \n",
       "11               L2SP          17.799744                     98.64   \n",
       "12               L2SP          16.517871                     62.63   \n",
       "13               L2SP          15.427422                     12.00   \n",
       "14               L2SP          14.273915                     16.00   \n",
       "15               L2SP          18.536254                     50.72   \n",
       "16               L2SP          17.246686                     46.19   \n",
       "17               L2SP          16.313570                      2.00   \n",
       "18               L2SP          15.146123                      4.00   \n",
       "19               L2SP          18.807230                      1.90   \n",
       "20               L2SP          17.516105                      2.48   \n",
       "\n",
       "   landsat:collection_number  landsat:collection_category  \n",
       "0                         02                           T2  \n",
       "1                         02                           T2  \n",
       "2                         02                           T2  \n",
       "3                         02                           T1  \n",
       "4                         02                           T1  \n",
       "5                         02                           T1  \n",
       "6                         02                           T2  \n",
       "7                         02                           T2  \n",
       "8                         02                           T1  \n",
       "9                         02                           T1  \n",
       "10                        02                           T1  \n",
       "11                        02                           T2  \n",
       "12                        02                           T1  \n",
       "13                        02                           T1  \n",
       "14                        02                           T1  \n",
       "15                        02                           T1  \n",
       "16                        02                           T1  \n",
       "17                        02                           T1  \n",
       "18                        02                           T1  \n",
       "19                        02                           T1  \n",
       "20                        02                           T1  \n",
       "\n",
       "[21 rows x 23 columns]"
      ]
     },
     "execution_count": 168,
     "metadata": {},
     "output_type": "execute_result"
    }
   ],
   "source": [
    "import geopandas\n",
    "\n",
    "df = geopandas.GeoDataFrame.from_features(items.to_dict(), crs=\"epsg:4326\")\n",
    "df"
   ]
  },
  {
   "cell_type": "markdown",
   "id": "e88bc7eb-fd2f-48b1-a3d7-dc96d8b7635c",
   "metadata": {},
   "source": [
    "Some collections implement the `eo` extension, which we can use to sort the items by cloudiness. We'll grab an item with low cloudiness:"
   ]
  },
  {
   "cell_type": "code",
   "execution_count": 169,
   "id": "c60accc9-4126-4609-8a65-406719b5485b",
   "metadata": {},
   "outputs": [
    {
     "name": "stdout",
     "output_type": "stream",
     "text": [
      "<Item id=LC08_L2SP_047027_20201204_02_T1>\n"
     ]
    }
   ],
   "source": [
    "selected_item = min(items, key=lambda item: item.properties[\"eo:cloud_cover\"])\n",
    "print(selected_item)"
   ]
  },
  {
   "cell_type": "markdown",
   "id": "9be696c5-c9b9-4dcb-a876-a645d384fa83",
   "metadata": {},
   "source": [
    "Each STAC item has one or more [Assets](https://github.com/radiantearth/stac-spec/blob/master/item-spec/item-spec.md#asset-object), which include links to the actual files."
   ]
  },
  {
   "cell_type": "code",
   "execution_count": 170,
   "id": "f507b45d-5985-4f10-9850-c1b3947c9908",
   "metadata": {},
   "outputs": [
    {
     "data": {
      "text/html": [
       "<pre style=\"white-space:pre;overflow-x:auto;line-height:normal;font-family:Menlo,'DejaVu Sans Mono',consolas,'Courier New',monospace\">┏━━━━━━━━━━━━━━━━━━┳━━━━━━━━━━━━━━━━━━━━━━━━━━━━━━━━━━━━━━━━━━━━━━━━━━━━━━━━━━━━━━━━━━━━━━┓\n",
       "┃<span style=\"font-weight: bold\"> Asset Key        </span>┃<span style=\"font-weight: bold\"> Description                                                          </span>┃\n",
       "┡━━━━━━━━━━━━━━━━━━╇━━━━━━━━━━━━━━━━━━━━━━━━━━━━━━━━━━━━━━━━━━━━━━━━━━━━━━━━━━━━━━━━━━━━━━┩\n",
       "│ qa               │ Surface Temperature Quality Assessment Band                          │\n",
       "│ ang              │ Angle Coefficients File                                              │\n",
       "│ red              │ Red Band                                                             │\n",
       "│ blue             │ Blue Band                                                            │\n",
       "│ drad             │ Downwelled Radiance Band                                             │\n",
       "│ emis             │ Emissivity Band                                                      │\n",
       "│ emsd             │ Emissivity Standard Deviation Band                                   │\n",
       "│ trad             │ Thermal Radiance Band                                                │\n",
       "│ urad             │ Upwelled Radiance Band                                               │\n",
       "│ atran            │ Atmospheric Transmittance Band                                       │\n",
       "│ cdist            │ Cloud Distance Band                                                  │\n",
       "│ green            │ Green Band                                                           │\n",
       "│ nir08            │ Near Infrared Band 0.8                                               │\n",
       "│ lwir11           │ Surface Temperature Band                                             │\n",
       "│ swir16           │ Short-wave Infrared Band 1.6                                         │\n",
       "│ swir22           │ Short-wave Infrared Band 2.2                                         │\n",
       "│ coastal          │ Coastal/Aerosol Band                                                 │\n",
       "│ mtl.txt          │ Product Metadata File (txt)                                          │\n",
       "│ mtl.xml          │ Product Metadata File (xml)                                          │\n",
       "│ mtl.json         │ Product Metadata File (json)                                         │\n",
       "│ qa_pixel         │ Pixel Quality Assessment Band                                        │\n",
       "│ qa_radsat        │ Radiometric Saturation and Terrain Occlusion Quality Assessment Band │\n",
       "│ qa_aerosol       │ Aerosol Quality Assessment Band                                      │\n",
       "│ tilejson         │ TileJSON with default rendering                                      │\n",
       "│ rendered_preview │ Rendered preview                                                     │\n",
       "└──────────────────┴──────────────────────────────────────────────────────────────────────┘\n",
       "</pre>\n"
      ],
      "text/plain": [
       "┏━━━━━━━━━━━━━━━━━━┳━━━━━━━━━━━━━━━━━━━━━━━━━━━━━━━━━━━━━━━━━━━━━━━━━━━━━━━━━━━━━━━━━━━━━━┓\n",
       "┃\u001b[1m \u001b[0m\u001b[1mAsset Key       \u001b[0m\u001b[1m \u001b[0m┃\u001b[1m \u001b[0m\u001b[1mDescription                                                         \u001b[0m\u001b[1m \u001b[0m┃\n",
       "┡━━━━━━━━━━━━━━━━━━╇━━━━━━━━━━━━━━━━━━━━━━━━━━━━━━━━━━━━━━━━━━━━━━━━━━━━━━━━━━━━━━━━━━━━━━┩\n",
       "│ qa               │ Surface Temperature Quality Assessment Band                          │\n",
       "│ ang              │ Angle Coefficients File                                              │\n",
       "│ red              │ Red Band                                                             │\n",
       "│ blue             │ Blue Band                                                            │\n",
       "│ drad             │ Downwelled Radiance Band                                             │\n",
       "│ emis             │ Emissivity Band                                                      │\n",
       "│ emsd             │ Emissivity Standard Deviation Band                                   │\n",
       "│ trad             │ Thermal Radiance Band                                                │\n",
       "│ urad             │ Upwelled Radiance Band                                               │\n",
       "│ atran            │ Atmospheric Transmittance Band                                       │\n",
       "│ cdist            │ Cloud Distance Band                                                  │\n",
       "│ green            │ Green Band                                                           │\n",
       "│ nir08            │ Near Infrared Band 0.8                                               │\n",
       "│ lwir11           │ Surface Temperature Band                                             │\n",
       "│ swir16           │ Short-wave Infrared Band 1.6                                         │\n",
       "│ swir22           │ Short-wave Infrared Band 2.2                                         │\n",
       "│ coastal          │ Coastal/Aerosol Band                                                 │\n",
       "│ mtl.txt          │ Product Metadata File (txt)                                          │\n",
       "│ mtl.xml          │ Product Metadata File (xml)                                          │\n",
       "│ mtl.json         │ Product Metadata File (json)                                         │\n",
       "│ qa_pixel         │ Pixel Quality Assessment Band                                        │\n",
       "│ qa_radsat        │ Radiometric Saturation and Terrain Occlusion Quality Assessment Band │\n",
       "│ qa_aerosol       │ Aerosol Quality Assessment Band                                      │\n",
       "│ tilejson         │ TileJSON with default rendering                                      │\n",
       "│ rendered_preview │ Rendered preview                                                     │\n",
       "└──────────────────┴──────────────────────────────────────────────────────────────────────┘\n"
      ]
     },
     "execution_count": 170,
     "metadata": {},
     "output_type": "execute_result"
    }
   ],
   "source": [
    "import rich.table\n",
    "\n",
    "table = rich.table.Table(\"Asset Key\", \"Description\")\n",
    "for asset_key, asset in selected_item.assets.items():\n",
    "    table.add_row(asset_key, asset.title)\n",
    "\n",
    "table"
   ]
  },
  {
   "cell_type": "markdown",
   "id": "fe4053e4-6c1e-46b7-947d-79811a2877e4",
   "metadata": {},
   "source": [
    "Here, we'll inspect the `rendered_preview` asset."
   ]
  },
  {
   "cell_type": "code",
   "execution_count": 171,
   "id": "f175aa10-8f97-4ea3-8fda-c6fe4469baea",
   "metadata": {},
   "outputs": [
    {
     "data": {
      "text/plain": [
       "{'href': 'https://planetarycomputer.microsoft.com/api/data/v1/item/preview.png?collection=landsat-c2-l2&item=LC08_L2SP_047027_20201204_02_T1&assets=red&assets=green&assets=blue&color_formula=gamma+RGB+2.7%2C+saturation+1.5%2C+sigmoidal+RGB+15+0.55',\n",
       " 'type': 'image/png',\n",
       " 'title': 'Rendered preview',\n",
       " 'rel': 'preview',\n",
       " 'roles': ['overview']}"
      ]
     },
     "execution_count": 171,
     "metadata": {},
     "output_type": "execute_result"
    }
   ],
   "source": [
    "selected_item.assets[\"rendered_preview\"].to_dict()"
   ]
  },
  {
   "cell_type": "code",
   "execution_count": 172,
   "id": "50535606-4891-40d4-9e52-7d0056583681",
   "metadata": {},
   "outputs": [
    {
     "data": {
      "text/html": [
       "<img src=\"https://planetarycomputer.microsoft.com/api/data/v1/item/preview.png?collection=landsat-c2-l2&item=LC08_L2SP_047027_20201204_02_T1&assets=red&assets=green&assets=blue&color_formula=gamma+RGB+2.7%2C+saturation+1.5%2C+sigmoidal+RGB+15+0.55\" width=\"500\"/>"
      ],
      "text/plain": [
       "<IPython.core.display.Image object>"
      ]
     },
     "execution_count": 172,
     "metadata": {},
     "output_type": "execute_result"
    }
   ],
   "source": [
    "from IPython.display import Image\n",
    "\n",
    "Image(url=selected_item.assets[\"rendered_preview\"].href, width=500)"
   ]
  },
  {
   "cell_type": "markdown",
   "id": "5abf7884-00c5-49fd-b27f-a57a23c00af5",
   "metadata": {},
   "source": [
    "That `rendered_preview` asset is generated dynamically from the raw data using the Planetary Computer's [data API](http://planetarycomputer.microsoft.com/api/data/v1/). We can access the raw data, stored as Cloud Optimzied GeoTIFFs in Azure Blob Storage, using one of the other assets.\n",
    "\n",
    "The actual data assets are in *private* [Azure Blob Storage containers](https://docs.microsoft.com/en-us/azure/storage/blobs/storage-blobs-introduction#containers). If forget to pass `modifier=planetary_computer.sign_inplace` or manually sign the item, then you'll get a 404 when trying to access the asset.\n",
    "\n",
    "That's why we included the `modifier=planetary_computer.sign_inplace` when we created the `pystac_client.Client` earlier. With that, the results returned by pystac-client are automatically signed, so that a token granting access to the file is included in the URL."
   ]
  },
  {
   "cell_type": "code",
   "execution_count": 173,
   "id": "d43f7c1b-4463-4802-a112-aa466d6791c8",
   "metadata": {},
   "outputs": [
    {
     "data": {
      "text/plain": [
       "'https://landsateuwest.blob.core.windows.net/landsat-c2/level-2/standard/oli-tirs/2020/047/027/LC08_L2SP_047027_20201204_20210313_02_T1/LC08_L2SP_047027_20201204_20210313_02_T1_SR_B2.TIF?st=2022-11-27T21%3A40%3A36Z&se=2022-11-28T22%3A25%3A36Z&sp=rl&sv'"
      ]
     },
     "execution_count": 173,
     "metadata": {},
     "output_type": "execute_result"
    }
   ],
   "source": [
    "selected_item.assets[\"blue\"].href[:250]"
   ]
  },
  {
   "cell_type": "markdown",
   "id": "3779e4dc-72d0-4a77-8d83-b49f67e16a5c",
   "metadata": {},
   "source": [
    " Everything after the `?` in that URL is a [SAS token](https://docs.microsoft.com/en-us/azure/storage/common/storage-sas-overview) grants access to the data. See https://planetarycomputer.microsoft.com/docs/concepts/sas/ for more on using tokens to access data."
   ]
  },
  {
   "cell_type": "code",
   "execution_count": 174,
   "id": "aefcb71d-31ba-4211-b7a5-7966c13304ef",
   "metadata": {},
   "outputs": [
    {
     "data": {
      "text/plain": [
       "200"
      ]
     },
     "execution_count": 174,
     "metadata": {},
     "output_type": "execute_result"
    }
   ],
   "source": [
    "import requests\n",
    "\n",
    "requests.head(selected_item.assets[\"blue\"].href).status_code"
   ]
  },
  {
   "cell_type": "markdown",
   "id": "65686af5-414e-4482-af27-fb680b179930",
   "metadata": {},
   "source": [
    "The `200` status code indicates that we were able to successfully access the data using the \"signed\" URL with the SAS token included."
   ]
  },
  {
   "cell_type": "markdown",
   "id": "29feea6d-400d-4573-82ba-835918adb701",
   "metadata": {},
   "source": [
    "We can load up that single COG using libraries like [rioxarray](https://corteva.github.io/rioxarray/html/rioxarray.html) or [rasterio](https://rasterio.readthedocs.io/en/latest/)"
   ]
  },
  {
   "cell_type": "code",
   "execution_count": 175,
   "id": "58481f78-40b5-486d-bf36-ab333206bdb4",
   "metadata": {},
   "outputs": [
    {
     "data": {
      "image/png": "[encoded data removed]",
      "text/plain": [
       "<Figure size 640x480 with 1 Axes>"
      ]
     },
     "metadata": {},
     "output_type": "display_data"
    }
   ],
   "source": [
    "# import xarray as xr\n",
    "import rioxarray\n",
    "\n",
    "ds = rioxarray.open_rasterio(\n",
    "    selected_item.assets[\"blue\"].href, overview_level=4\n",
    ").squeeze()\n",
    "img = ds.plot(cmap=\"Blues\", add_colorbar=False)\n",
    "img.axes.set_axis_off();"
   ]
  },
  {
   "cell_type": "markdown",
   "id": "d3c08641-fbb6-425f-a3ca-975ca1d425a4",
   "metadata": {},
   "source": [
    "If you wish to work with multiple STAC items as a datacube, you can use libraries like [stackstac](https://stackstac.readthedocs.io/) or [odc-stac](https://odc-stac.readthedocs.io/en/latest/index.html)."
   ]
  },
  {
   "cell_type": "code",
   "execution_count": 176,
   "id": "d4a749a5-4a05-405b-8c81-9c10317c9e33",
   "metadata": {},
   "outputs": [
    {
     "ename": "ModuleNotFoundError",
     "evalue": "No module named 'stackstac'",
     "output_type": "error",
     "traceback": [
      "\u001b[0;31m---------------------------------------------------------------------------\u001b[0m",
      "\u001b[0;31mModuleNotFoundError\u001b[0m                       Traceback (most recent call last)",
      "Cell \u001b[0;32mIn[176], line 1\u001b[0m\n\u001b[0;32m----> 1\u001b[0m \u001b[39mimport\u001b[39;00m \u001b[39mstackstac\u001b[39;00m\n\u001b[1;32m      3\u001b[0m ds \u001b[39m=\u001b[39m stackstac\u001b[39m.\u001b[39mstack(items)\n\u001b[1;32m      4\u001b[0m ds\n",
      "\u001b[0;31mModuleNotFoundError\u001b[0m: No module named 'stackstac'"
     ]
    }
   ],
   "source": [
    "import stackstac\n",
    "\n",
    "ds = stackstac.stack(items)\n",
    "ds"
   ]
  },
  {
   "cell_type": "markdown",
   "id": "fc96240e-edb9-4e6d-9c70-645d91813a7f",
   "metadata": {},
   "source": [
    "### Searching on additional properties\n",
    "\n",
    "Previously, we searched for items by space and time. Because the Planetary Computer's STAC API supports the [query](https://github.com/radiantearth/stac-api-spec/blob/master/fragments/query/README.md) parameter, you can search on additional properties on the STAC item.\n",
    "\n",
    "For example, collections like `sentinel-2-l2a` and `landsat-c2-l2` both implement the [`eo` STAC extension](https://github.com/stac-extensions/eo) and include an `eo:cloud_cover` property. Use `query={\"eo:cloud_cover\": {\"lt\": 20}}` to return only items that are less than 20% cloudy."
   ]
  },
  {
   "cell_type": "code",
   "execution_count": null,
   "id": "18c2f286-654a-479a-9ae0-0f819250b575",
   "metadata": {},
   "outputs": [],
   "source": [
    "time_range = \"2020-12-01/2020-12-31\"\n",
    "bbox = [-122.2751, 47.5469, -121.9613, 47.7458]\n",
    "\n",
    "search = catalog.search(\n",
    "    collections=[\"sentinel-2-l2a\"],\n",
    "    bbox=bbox,\n",
    "    datetime=time_range,\n",
    "    query={\"eo:cloud_cover\": {\"lt\": 20}},\n",
    ")\n",
    "items = search.get_all_items()"
   ]
  },
  {
   "cell_type": "markdown",
   "id": "fda18a4d-7421-420b-a918-c45ce43833a9",
   "metadata": {},
   "source": [
    "Other common uses of the `query` parameter is to filter a collection down to items of a specific type, For example, the [GOES-CMI](https://planetarycomputer.microsoft.com/dataset/goes-cmi) collection includes images from various when the satellite is in various modes, which produces images of either the Full Disk of the earth, the continental United States, or a mesoscale. You can use `goes:image-type` to filter down to just the ones you want."
   ]
  },
  {
   "cell_type": "code",
   "execution_count": null,
   "id": "d2db005e-9732-43e2-89c1-3133a6fda2d1",
   "metadata": {},
   "outputs": [],
   "source": [
    "search = catalog.search(\n",
    "    collections=[\"goes-cmi\"],\n",
    "    bbox=[-67.2729, 25.6000, -61.7999, 27.5423],\n",
    "    datetime=[\"2018-09-11T13:00:00Z\", \"2018-09-11T15:40:00Z\"],\n",
    "    query={\"goes:image-type\": {\"eq\": \"MESOSCALE\"}},\n",
    ")"
   ]
  },
  {
   "cell_type": "markdown",
   "id": "10cb5d51-7d01-4d8b-ad14-1c3df6cea258",
   "metadata": {},
   "source": [
    "### Analyzing STAC Metadata\n",
    "\n",
    "STAC items are proper GeoJSON Features, and so can be treated as a kind of data on their own."
   ]
  },
  {
   "cell_type": "code",
   "execution_count": null,
   "id": "0283b780-d1c8-4715-bcc0-0e533110020f",
   "metadata": {
    "tags": []
   },
   "outputs": [],
   "source": [
    "import contextily\n",
    "\n",
    "search = catalog.search(\n",
    "    collections=[\"sentinel-2-l2a\"],\n",
    "    bbox=[-124.2751, 45.5469, -110.9613, 47.7458],\n",
    "    datetime=\"2020-12-26/2020-12-31\",\n",
    ")\n",
    "items = search.get_all_items()\n",
    "\n",
    "df = geopandas.GeoDataFrame.from_features(items.to_dict(), crs=\"epsg:4326\")\n",
    "\n",
    "ax = df[[\"geometry\", \"datetime\", \"s2:mgrs_tile\", \"eo:cloud_cover\"]].plot(\n",
    "    facecolor=\"none\", figsize=(12, 6)\n",
    ")\n",
    "contextily.add_basemap(ax, crs=df.crs.to_string());"
   ]
  },
  {
   "cell_type": "markdown",
   "id": "debaa186-f987-49c0-a476-98835207fd1f",
   "metadata": {},
   "source": [
    "Or we can plot cloudiness of a region over time."
   ]
  },
  {
   "cell_type": "code",
   "execution_count": null,
   "id": "548b344f-4c5e-41a7-bc27-9fe5d3bf3845",
   "metadata": {},
   "outputs": [],
   "source": [
    "import pandas as pd\n",
    "\n",
    "search = catalog.search(\n",
    "    collections=[\"sentinel-2-l2a\"],\n",
    "    bbox=[-124.2751, 45.5469, -123.9613, 45.7458],\n",
    "    datetime=\"2020-01-01/2020-12-31\",\n",
    ")\n",
    "items = search.get_all_items()\n",
    "df = geopandas.GeoDataFrame.from_features(items.to_dict())\n",
    "df[\"datetime\"] = pd.to_datetime(df[\"datetime\"])\n",
    "\n",
    "ts = df.set_index(\"datetime\").sort_index()[\"eo:cloud_cover\"].rolling(7).mean()\n",
    "ts.plot(title=\"eo:cloud-cover (7-scene rolling average)\");"
   ]
  },
  {
   "cell_type": "markdown",
   "id": "13669344-a6c2-4684-ba78-69b7907e37e1",
   "metadata": {},
   "source": [
    "### Working with STAC Catalogs and Collections\n",
    "\n",
    "Our `catalog` is a [STAC Catalog](https://github.com/radiantearth/stac-spec/blob/master/catalog-spec/catalog-spec.md) that we can crawl or search. The Catalog contains [STAC Collections](https://github.com/radiantearth/stac-spec/blob/master/collection-spec/collection-spec.md) for each dataset we have indexed (which is not the yet the entirity of data hosted by the Planetary Computer).\n",
    "\n",
    "Collections have information about the [STAC Items](https://github.com/radiantearth/stac-spec/blob/master/item-spec/item-spec.md) they contain. For instance, here we look at the [Bands](https://github.com/stac-extensions/eo#band-object) available for [Landsat 8 Collection 2 Level 2](https://planetarycomputer.microsoft.com/dataset/landsat-c2-l2) data:"
   ]
  },
  {
   "cell_type": "code",
   "execution_count": null,
   "id": "8da11d26-3658-4b9e-b790-f84a2aded3e8",
   "metadata": {},
   "outputs": [],
   "source": [
    "import pandas as pd\n",
    "\n",
    "landsat = catalog.get_collection(\"landsat-c2-l2\")\n",
    "\n",
    "pd.DataFrame(landsat.extra_fields[\"summaries\"][\"eo:bands\"])"
   ]
  },
  {
   "cell_type": "markdown",
   "id": "4ae651c0",
   "metadata": {},
   "source": [
    "We can see what [Assets](https://github.com/radiantearth/stac-spec/blob/master/item-spec/item-spec.md#asset-object) are available on our item with:"
   ]
  },
  {
   "cell_type": "code",
   "execution_count": null,
   "id": "4bb2b985-f18d-4161-9331-b4b259814f34",
   "metadata": {},
   "outputs": [],
   "source": [
    "pd.DataFrame.from_dict(landsat.extra_fields[\"item_assets\"], orient=\"index\")[\n",
    "    [\"title\", \"description\", \"gsd\"]\n",
    "]"
   ]
  },
  {
   "cell_type": "markdown",
   "id": "d951c06c-8d3a-47e7-8067-47fe4e9d4ccf",
   "metadata": {},
   "source": [
    "Some collections, like [Daymet](https://planetarycomputer.microsoft.com/dataset/daymet-daily-na) include collection-level assets. You can use the `.assets` property to access those assets."
   ]
  },
  {
   "cell_type": "code",
   "execution_count": null,
   "id": "c2ffb4ee-2714-4bf0-8445-5d90fcc2520c",
   "metadata": {},
   "outputs": [],
   "source": [
    "collection = catalog.get_collection(\"daymet-daily-na\")\n",
    "print(collection)"
   ]
  },
  {
   "cell_type": "markdown",
   "id": "520e7e3f-b189-4ce3-b5f1-11211e474d1b",
   "metadata": {},
   "source": [
    "Just like assets on items, these assets include links to data in Azure Blob Storage."
   ]
  },
  {
   "cell_type": "code",
   "execution_count": null,
   "id": "08b95491-3994-4cc5-8b24-ba113874835f",
   "metadata": {},
   "outputs": [],
   "source": [
    "asset = collection.assets[\"zarr-abfs\"]\n",
    "print(asset)"
   ]
  },
  {
   "cell_type": "code",
   "execution_count": null,
   "id": "58b7f436-d739-40d8-93bc-631a2295709a",
   "metadata": {},
   "outputs": [],
   "source": [
    "import xarray as xr\n",
    "\n",
    "ds = xr.open_zarr(\n",
    "    asset.href,\n",
    "    **asset.extra_fields[\"xarray:open_kwargs\"],\n",
    "    storage_options=asset.extra_fields[\"xarray:storage_options\"],\n",
    ")\n",
    "ds"
   ]
  },
  {
   "cell_type": "markdown",
   "id": "59c4ec09-548c-42d2-805e-16b1d7875448",
   "metadata": {},
   "source": [
    "### Manually signing assets\n",
    "\n",
    "Earlier on, when we created our `pystac_client.Client`, we specified `modifier=planetary_computer.sign_inplace`. That `modifier` will automatically \"sign\" the STAC metadata, so that the assets can be accessed.\n",
    "\n",
    "Alternatively, you can manually sign the items."
   ]
  },
  {
   "cell_type": "code",
   "execution_count": null,
   "id": "825926df-eb00-420b-9cad-fe238a77c163",
   "metadata": {},
   "outputs": [],
   "source": [
    "import pystac\n",
    "\n",
    "item = pystac.read_file(selected_item.get_self_href())\n",
    "signed_item = planetary_computer.sign(item)  # these assets can be accessed\n",
    "requests.head(signed_item.assets[\"blue\"].href).status_code"
   ]
  },
  {
   "cell_type": "markdown",
   "id": "9eb85e6d-daf5-46ad-a95c-0b542a1e6aa7",
   "metadata": {},
   "source": [
    "Internally, that `planetary_computer.sign` method is making a request to the Planetary Computer's [SAS API](http://planetarycomputer.microsoft.com/api/sas/v1/docs) to get a signed HREF for each asset. You could do that manually yourself."
   ]
  },
  {
   "cell_type": "code",
   "execution_count": null,
   "id": "d0759d76-453a-48a0-adac-a72d66e63dd2",
   "metadata": {},
   "outputs": [],
   "source": [
    "collection = item.get_collection()\n",
    "storage_account = collection.extra_fields[\"msft:storage_account\"]\n",
    "container = collection.extra_fields[\"msft:container\"]\n",
    "\n",
    "response = requests.get(\n",
    "    f\"https://planetarycomputer.microsoft.com/api/sas/v1/token/{collection.id}\"\n",
    ")\n",
    "\n",
    "signed_url = item.assets[\"blue\"].href + \"?\" + response.json()[\"token\"]\n",
    "\n",
    "requests.head(signed_url).status_code"
   ]
  },
  {
   "cell_type": "markdown",
   "id": "6ea8409b-7438-4483-818f-149cafaf10df",
   "metadata": {},
   "source": [
    "See https://planetarycomputer.microsoft.com/docs/concepts/sas/ for more on how to manually sign assets."
   ]
  }
 ],
 "metadata": {
  "kernelspec": {
   "display_name": "Python 3.10.8 ('IPP-toolkit')",
   "language": "python",
   "name": "python3"
  },
  "language_info": {
   "codemirror_mode": {
    "name": "ipython",
    "version": 3
   },
   "file_extension": ".py",
   "mimetype": "text/x-python",
   "name": "python",
   "nbconvert_exporter": "python",
   "pygments_lexer": "ipython3",
   "version": "3.10.8"
  },
  "vscode": {
   "interpreter": {
    "hash": "9891de3c639fa15231b93d4e5cbb1e78adc2ca0530b73afcef9e0aa291273f29"
   }
  },
  "widgets": {
   "application/vnd.jupyter.widget-state+json": {
    "state": {
     "2056b57116284110afbd45b4ce972ba9": {
      "model_module": "@jupyter-widgets/base",
      "model_module_version": "1.2.0",
      "model_name": "LayoutModel",
      "state": {}
     },
     "7ad8943a20f74a19b26a1cf75c3a062a": {
      "model_module": "@jupyter-widgets/controls",
      "model_module_version": "1.5.0",
      "model_name": "VBoxModel",
      "state": {
       "layout": "IPY_MODEL_2056b57116284110afbd45b4ce972ba9"
      }
     }
    },
    "version_major": 2,
    "version_minor": 0
   }
  }
 },
 "nbformat": 4,
 "nbformat_minor": 5
}
