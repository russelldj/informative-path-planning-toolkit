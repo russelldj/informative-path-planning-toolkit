{
 "cells": [
  {
   "cell_type": "code",
   "execution_count": null,
   "metadata": {},
   "outputs": [],
   "source": [
    "from ipp_toolkit.predictors.masked_image_predictor import (\n",
    "    EnsambledMaskedLabeledImagePredictor,\n",
    ")\n",
    "from ipp_toolkit.planners.masked_planner import RandomMaskedPlanner\n",
    "from ipp_toolkit.data.domain_data import ALL_LABELED_DOMAIN_DATASETS\n",
    "from ipp_toolkit.visualization.visualization import visualize_prediction\n",
    "from sklearn.neural_network import MLPClassifier, MLPRegressor"
   ]
  }
 ],
 "metadata": {
  "kernelspec": {
   "display_name": "Python 3.10.4 ('ipp-toolkit')",
   "language": "python",
   "name": "python3"
  },
  "language_info": {
   "name": "python",
   "version": "3.10.4"
  },
  "orig_nbformat": 4,
  "vscode": {
   "interpreter": {
    "hash": "f1caab158e9dda16b836c4a68784693c462c7dd69c7135a41b5670b104c5f882"
   }
  }
 },
 "nbformat": 4,
 "nbformat_minor": 2
}
