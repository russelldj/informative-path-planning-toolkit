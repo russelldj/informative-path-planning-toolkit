{
 "cells": [
  {
   "cell_type": "code",
   "execution_count": 1,
   "metadata": {},
   "outputs": [
    {
     "name": "stderr",
     "output_type": "stream",
     "text": [
      "/home/frc-ag-1/anaconda3/envs/ipp-toolkit/lib/python3.10/site-packages/tqdm/auto.py:22: TqdmWarning: IProgress not found. Please update jupyter and ipywidgets. See https://ipywidgets.readthedocs.io/en/stable/user_install.html\n",
      "  from .autonotebook import tqdm as notebook_tqdm\n"
     ]
    }
   ],
   "source": [
    "from ipp_toolkit.experiments.comparing_ipp_approaches import compare_planners\n",
    "from ipp_toolkit.planners.diversity_planner import BatchDiversityPlanner\n",
    "from ipp_toolkit.planners.masked_planner import RandomMaskedPlanner\n",
    "from ipp_toolkit.data.domain_data import AIIRAGreennessRegresssionData\n",
    "from ipp_toolkit.predictors.uncertain_predictors import GaussianProcessRegression\n",
    "from ipp_toolkit.predictors.masked_image_predictor import UncertainMaskedLabeledImagePredictor\n"
   ]
  },
  {
   "cell_type": "code",
   "execution_count": 2,
   "metadata": {},
   "outputs": [],
   "source": [
    "# Define the constants\n",
    "N_CANDIDATE_LOCATIONS_DIVERSITY = 200\n",
    "VIS_PLAN = False\n",
    "N_TRIALS = 5\n",
    "N_FLIGHTS = 5\n",
    "\n",
    "# Create the dataset\n",
    "data = AIIRAGreennessRegresssionData()\n",
    "\n",
    "# Create your different planners\n",
    "planners = [\n",
    "    BatchDiversityPlanner(\n",
    "        data, n_candidate_locations=N_CANDIDATE_LOCATIONS_DIVERSITY\n",
    "    ),\n",
    "    RandomMaskedPlanner(data),\n",
    "]\n",
    "# Name them for visualization later\n",
    "planner_names = [\"Diversity planner\", \"Random planner\"]\n",
    "# Add planner-specific keyword arguments\n",
    "planner_kwargs = [{\"vis\": VIS_PLAN}, {\"vis\": VIS_PLAN}]\n",
    "# Create a prediction model \n",
    "model = GaussianProcessRegression()\n",
    "# Create a gridded predictor\n",
    "predictor = UncertainMaskedLabeledImagePredictor(data, model, classification_task=data.is_classification_dataset())\n",
    "\n",
    "# Run the comparison\n",
    "compare_planners(\n",
    "    planners=planners,\n",
    "    predictor=predictor,\n",
    "    each_planners_kwargs=planner_kwargs,\n",
    "    planner_names=planner_names,\n",
    "    data_manager=data,\n",
    "    n_trials=N_TRIALS,\n",
    "    n_flights=N_FLIGHTS,\n",
    ")"
   ]
  }
 ],
 "metadata": {
  "kernelspec": {
   "display_name": "Python 3.10.4 ('ipp-toolkit')",
   "language": "python",
   "name": "python3"
  },
  "language_info": {
   "codemirror_mode": {
    "name": "ipython",
    "version": 3
   },
   "file_extension": ".py",
   "mimetype": "text/x-python",
   "name": "python",
   "nbconvert_exporter": "python",
   "pygments_lexer": "ipython3",
   "version": "3.10.4"
  },
  "orig_nbformat": 4,
  "vscode": {
   "interpreter": {
    "hash": "f1caab158e9dda16b836c4a68784693c462c7dd69c7135a41b5670b104c5f882"
   }
  }
 },
 "nbformat": 4,
 "nbformat_minor": 2
}
